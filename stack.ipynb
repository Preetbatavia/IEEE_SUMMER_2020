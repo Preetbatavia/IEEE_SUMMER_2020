{
 "cells": [
  {
   "cell_type": "code",
   "execution_count": 4,
   "metadata": {},
   "outputs": [
    {
     "name": "stdout",
     "output_type": "stream",
     "text": [
      "['a', 'b', 'c']\n",
      "c\n",
      "b\n",
      "a\n"
     ]
    }
   ],
   "source": [
    "## Stacks using lists\n",
    "##Element is removed in LIFO fashion\n",
    "stack = []\n",
    "stack.append('a')\n",
    "stack.append('b')\n",
    "stack.append('c')\n",
    "print(stack)\n",
    "print(stack.pop())\n",
    "print(stack.pop())\n",
    "print(stack.pop())"
   ]
  },
  {
   "cell_type": "code",
   "execution_count": 6,
   "metadata": {},
   "outputs": [
    {
     "name": "stdout",
     "output_type": "stream",
     "text": [
      "deque(['a', 'b', 'c'])\n",
      "c\n",
      "b\n",
      "a\n"
     ]
    }
   ],
   "source": [
    "##Implementation using collections.deque\n",
    "\n",
    "from collections import deque\n",
    "stack = deque()\n",
    "stack.append('a')\n",
    "stack.append('b')\n",
    "stack.append('c')\n",
    "print(stack)\n",
    "print(stack.pop())\n",
    "print(stack.pop())\n",
    "print(stack.pop())"
   ]
  },
  {
   "cell_type": "code",
   "execution_count": 9,
   "metadata": {},
   "outputs": [
    {
     "name": "stdout",
     "output_type": "stream",
     "text": [
      "0\n",
      "Full : True\n",
      "Size : 3\n",
      "c\n",
      "b\n",
      "a\n"
     ]
    }
   ],
   "source": [
    "##Stack implementation using queue model\n",
    "from queue import LifoQueue\n",
    "stack = LifoQueue(maxsize =3)\n",
    "\n",
    "print(stack.qsize())\n",
    "\n",
    "stack.put('a')\n",
    "stack.put('b')\n",
    "stack.put('c')\n",
    "\n",
    "print(\"Full :\",stack.full())\n",
    "print(\"Size :\",stack.qsize())\n",
    "\n",
    "for i in range(3):\n",
    " print(stack.get())\n",
    "\n"
   ]
  },
  {
   "cell_type": "code",
   "execution_count": 1,
   "metadata": {},
   "outputs": [
    {
     "name": "stdout",
     "output_type": "stream",
     "text": [
      "5\n",
      "9\n",
      "1\n",
      "7\n"
     ]
    }
   ],
   "source": [
    "##Queue in python\n",
    "##A queue follows FIFO rule(First In First Out) and is used in programming for sorting and for many more things.\n",
    "\n",
    "import queue \n",
    "\n",
    "\n",
    "L = queue.Queue(maxsize=20) \n",
    "\n",
    "\n",
    "L.put(5) \n",
    "L.put(9) \n",
    "L.put(1) \n",
    "L.put(7) \n",
    "\n",
    " \n",
    "print(L.get()) \n",
    "print(L.get()) \n",
    "print(L.get()) \n",
    "print(L.get()) \n"
   ]
  },
  {
   "cell_type": "code",
   "execution_count": null,
   "metadata": {},
   "outputs": [
    {
     "name": "stdout",
     "output_type": "stream",
     "text": [
      "0\n",
      "Full:  False\n",
      "Full:  True\n",
      "5\n",
      "9\n",
      "1\n",
      "Empty:  False\n",
      "7\n",
      "9\n",
      "10\n",
      "Empty:  True\n",
      "Full:  False\n"
     ]
    }
   ],
   "source": [
    "##2. UnderFlow and OverFlow\n",
    "##When we try to add data into a Queue above is maxsize, it is called OverFlow(Queue Full) and when we try removing an element\n",
    "##from an empty, it’s called Underflow. put() and get() do not give error upon Underflow and Overflow, but goes into an infinite loop.\n",
    "import queue \n",
    "\n",
    "L = queue.Queue(maxsize=6) \n",
    "\n",
    "# qsize() give the maxsize \n",
    "# of the Queue \n",
    "print(L.qsize()) \n",
    "\n",
    "L.put(5) \n",
    "L.put(9) \n",
    "L.put(1) \n",
    "L.put(7) \n",
    "\n",
    "# Return Boolean for Full \n",
    "# Queue \n",
    "print(\"Full: \", L.full()) \n",
    "\n",
    "L.put(9) \n",
    "L.put(10) \n",
    "print(\"Full: \", L.full()) \n",
    "\n",
    "print(L.get()) \n",
    "print(L.get()) \n",
    "print(L.get()) \n",
    "\n",
    "# Return Boolean for Empty \n",
    "# Queue \n",
    "print(\"Empty: \", L.empty()) \n",
    "\n",
    "print(L.get()) \n",
    "print(L.get()) \n",
    "print(L.get()) \n",
    "\n",
    "print(\"Empty: \", L.empty()) \n",
    "print(\"Full: \", L.full()) \n",
    "\n",
    "# This would result into Infinite \n",
    "# Loop as the Queue is empty. \n",
    "print(L.get()) \n"
   ]
  },
  {
   "cell_type": "code",
   "execution_count": 20,
   "metadata": {},
   "outputs": [
    {
     "name": "stdout",
     "output_type": "stream",
     "text": [
      "Sun\n",
      "Mon\n",
      "Tue\n",
      "Wed\n"
     ]
    }
   ],
   "source": [
    "##Linked Lists\n",
    "##A linked list is a sequence of data elements, which are connected together via links. \n",
    "##Each data element contains a connection to another data element in form of a pointer. \n",
    "##Python does not have linked lists in its standard library. We implement the concept of linked lists using the concept of nodes \n",
    "\n",
    "class Node:\n",
    "    def __init__(self, dataval=None):\n",
    "        self.dataval = dataval\n",
    "        self.nextval = None\n",
    "\n",
    "class SLinkedList:\n",
    "    def __init__(self):\n",
    "        self.headval = None\n",
    "        \n",
    "    def listprint(self):\n",
    "        printval = self.headval\n",
    "        ##Assigning head val to print val\n",
    "        while printval is not None:\n",
    "            print(printval.dataval)\n",
    "            printval = printval.nextval \n",
    "    \n",
    "            ##Assigning the nextval to printval using the pointer\n",
    "    def AtBegining(self,newdata):\n",
    "        NewNode = Node(newdata)\n",
    "# Update the new nodes next val to existing node\n",
    "        NewNode.nextval = self.headval\n",
    "        self.headval = NewNode\n",
    "            \n",
    "\n",
    "list1 = SLinkedList()\n",
    "list1.headval = Node(\"Mon\")\n",
    "e2 = Node(\"Tue\")\n",
    "e3 = Node(\"Wed\")\n",
    "# Link first Node to second node\n",
    "list1.headval.nextval = e2\n",
    "\n",
    "# Link second Node to third node\n",
    "e2.nextval = e3\n",
    "\n",
    "list1.AtBegining(\"Sun\")\n",
    "\n",
    "list1.listprint()"
   ]
  },
  {
   "cell_type": "code",
   "execution_count": 3,
   "metadata": {},
   "outputs": [
    {
     "name": "stdout",
     "output_type": "stream",
     "text": [
      "Mon\n",
      "Tue\n",
      "Wed\n",
      "Thur\n"
     ]
    }
   ],
   "source": [
    "##Add a node to the end\n",
    "class Node:\n",
    "    def __init__(self, dataval=None):\n",
    "        self.dataval = dataval\n",
    "        self.nextval = None\n",
    "\n",
    "class SLinkedList:\n",
    "    def __init__(self):\n",
    "        self.headval = None\n",
    "        \n",
    "    def listprint(self):\n",
    "        printval = self.headval\n",
    "        ##Assigning head val to print val\n",
    "        while printval is not None:\n",
    "            print(printval.dataval)\n",
    "            printval = printval.nextval \n",
    "    \n",
    "            ##Assigning the nextval to printval using the pointer\n",
    "    def AtEnd(self,newdata):\n",
    "        NewNode = Node(newdata)\n",
    "        e3.nextval = NewNode\n",
    "        \n",
    "# Update the new nodes next val to existing node\n",
    "    \n",
    "        \n",
    "            \n",
    "\n",
    "list1 = SLinkedList()\n",
    "list1.headval = Node(\"Mon\")\n",
    "e2 = Node(\"Tue\")\n",
    "e3 = Node(\"Wed\")\n",
    "# Link first Node to second node\n",
    "list1.headval.nextval = e2\n",
    "\n",
    "# Link second Node to third node\n",
    "e2.nextval = e3\n",
    "\n",
    "\n",
    "list1.AtEnd(\"Thur\")\n",
    "\n",
    "list1.listprint()"
   ]
  },
  {
   "cell_type": "code",
   "execution_count": 17,
   "metadata": {},
   "outputs": [
    {
     "name": "stdout",
     "output_type": "stream",
     "text": [
      "Sun\n",
      "Mon\n",
      "Its ongoing week\n",
      "Tue\n",
      "Wed\n"
     ]
    }
   ],
   "source": [
    "##Adding a node in between \n",
    "\n",
    "class Node:\n",
    "    def __init__(self, dataval=None):\n",
    "        self.dataval = dataval\n",
    "        self.nextval = None\n",
    "\n",
    "class SLinkedList:\n",
    "    def __init__(self):\n",
    "        self.headval = None\n",
    "        \n",
    "    def listprint(self):\n",
    "        printval = self.headval\n",
    "        ##Assigning head val to print val\n",
    "        while printval is not None:\n",
    "            print(printval.dataval)\n",
    "            printval = printval.nextval \n",
    "    \n",
    "            ##Assigning the nextval to printval using the pointer\n",
    "    def AtBegining(self,newdata):\n",
    "        NewNode = Node(newdata)\n",
    "# Update the new nodes next val to existing node\n",
    "        NewNode.nextval = self.headval\n",
    "        self.headval = NewNode\n",
    "    def Atmid(self,newdata):\n",
    "        mid = Node(newdata)\n",
    "        self.headval.nextval.nextval = mid\n",
    "        mid.nextval = e2\n",
    "        \n",
    "            \n",
    "\n",
    "list1 = SLinkedList()\n",
    "list1.headval = Node(\"Mon\")\n",
    "e2 = Node(\"Tue\")\n",
    "e3 = Node(\"Wed\")\n",
    "# Link first Node to second node\n",
    "list1.headval.nextval = e2\n",
    "\n",
    "# Link second Node to third node\n",
    "e2.nextval = e3\n",
    "\n",
    "list1.AtBegining(\"Sun\")\n",
    "\n",
    "list1.Atmid(\"Its ongoing week\")\n",
    "\n",
    "list1.listprint()"
   ]
  },
  {
   "cell_type": "code",
   "execution_count": null,
   "metadata": {},
   "outputs": [],
   "source": []
  }
 ],
 "metadata": {
  "kernelspec": {
   "display_name": "Python 3",
   "language": "python",
   "name": "python3"
  },
  "language_info": {
   "codemirror_mode": {
    "name": "ipython",
    "version": 3
   },
   "file_extension": ".py",
   "mimetype": "text/x-python",
   "name": "python",
   "nbconvert_exporter": "python",
   "pygments_lexer": "ipython3",
   "version": "3.7.6"
  }
 },
 "nbformat": 4,
 "nbformat_minor": 4
}
